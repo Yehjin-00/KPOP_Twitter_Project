{
 "cells": [
  {
   "cell_type": "markdown",
   "metadata": {},
   "source": [
    "## Twitter API EXERCISE"
   ]
  },
  {
   "cell_type": "markdown",
   "metadata": {},
   "source": [
    "### 1. Installation"
   ]
  },
  {
   "cell_type": "code",
   "execution_count": 1,
   "metadata": {
    "scrolled": false
   },
   "outputs": [
    {
     "name": "stdout",
     "output_type": "stream",
     "text": [
      "fatal: 대상 경로가('python-twitter') 이미 있고 빈 디렉터리가 아닙니다.\n",
      "Requirement already up-to-date: requests in /Users/shinyehjin/opt/anaconda3/lib/python3.7/site-packages (from -r python-twitter/requirements.txt (line 1)) (2.25.0)\n",
      "Requirement already up-to-date: requests-oauthlib in /Users/shinyehjin/opt/anaconda3/lib/python3.7/site-packages (from -r python-twitter/requirements.txt (line 2)) (1.3.0)\n",
      "Requirement already satisfied, skipping upgrade: urllib3<1.27,>=1.21.1 in /Users/shinyehjin/opt/anaconda3/lib/python3.7/site-packages (from requests->-r python-twitter/requirements.txt (line 1)) (1.25.8)\n",
      "Requirement already satisfied, skipping upgrade: chardet<4,>=3.0.2 in /Users/shinyehjin/opt/anaconda3/lib/python3.7/site-packages (from requests->-r python-twitter/requirements.txt (line 1)) (3.0.4)\n",
      "Requirement already satisfied, skipping upgrade: certifi>=2017.4.17 in /Users/shinyehjin/opt/anaconda3/lib/python3.7/site-packages (from requests->-r python-twitter/requirements.txt (line 1)) (2019.11.28)\n",
      "Requirement already satisfied, skipping upgrade: idna<3,>=2.5 in /Users/shinyehjin/opt/anaconda3/lib/python3.7/site-packages (from requests->-r python-twitter/requirements.txt (line 1)) (2.8)\n",
      "Requirement already satisfied, skipping upgrade: oauthlib>=3.0.0 in /Users/shinyehjin/opt/anaconda3/lib/python3.7/site-packages (from requests-oauthlib->-r python-twitter/requirements.txt (line 2)) (3.1.0)\n",
      "Requirement already satisfied: python-twitter in /Users/shinyehjin/opt/anaconda3/lib/python3.7/site-packages (3.5)\n",
      "Requirement already satisfied: requests in /Users/shinyehjin/opt/anaconda3/lib/python3.7/site-packages (from python-twitter) (2.25.0)\n",
      "Requirement already satisfied: future in /Users/shinyehjin/opt/anaconda3/lib/python3.7/site-packages (from python-twitter) (0.18.2)\n",
      "Requirement already satisfied: requests-oauthlib in /Users/shinyehjin/opt/anaconda3/lib/python3.7/site-packages (from python-twitter) (1.3.0)\n",
      "Requirement already satisfied: chardet<4,>=3.0.2 in /Users/shinyehjin/opt/anaconda3/lib/python3.7/site-packages (from requests->python-twitter) (3.0.4)\n",
      "Requirement already satisfied: idna<3,>=2.5 in /Users/shinyehjin/opt/anaconda3/lib/python3.7/site-packages (from requests->python-twitter) (2.8)\n",
      "Requirement already satisfied: urllib3<1.27,>=1.21.1 in /Users/shinyehjin/opt/anaconda3/lib/python3.7/site-packages (from requests->python-twitter) (1.25.8)\n",
      "Requirement already satisfied: certifi>=2017.4.17 in /Users/shinyehjin/opt/anaconda3/lib/python3.7/site-packages (from requests->python-twitter) (2019.11.28)\n",
      "Requirement already satisfied: oauthlib>=3.0.0 in /Users/shinyehjin/opt/anaconda3/lib/python3.7/site-packages (from requests-oauthlib->python-twitter) (3.1.0)\n",
      "running build\n",
      "running install\n",
      "running bdist_egg\n",
      "running egg_info\n",
      "writing python_twitter.egg-info/PKG-INFO\n",
      "writing dependency_links to python_twitter.egg-info/dependency_links.txt\n",
      "writing requirements to python_twitter.egg-info/requires.txt\n",
      "writing top-level names to python_twitter.egg-info/top_level.txt\n",
      "reading manifest file 'python_twitter.egg-info/SOURCES.txt'\n",
      "writing manifest file 'python_twitter.egg-info/SOURCES.txt'\n",
      "installing library code to build/bdist.macosx-10.9-x86_64/egg\n",
      "running install_lib\n",
      "warning: install_lib: 'build/lib' does not exist -- no Python modules to install\n",
      "\n",
      "creating build/bdist.macosx-10.9-x86_64/egg\n",
      "creating build/bdist.macosx-10.9-x86_64/egg/EGG-INFO\n",
      "copying python_twitter.egg-info/PKG-INFO -> build/bdist.macosx-10.9-x86_64/egg/EGG-INFO\n",
      "copying python_twitter.egg-info/SOURCES.txt -> build/bdist.macosx-10.9-x86_64/egg/EGG-INFO\n",
      "copying python_twitter.egg-info/dependency_links.txt -> build/bdist.macosx-10.9-x86_64/egg/EGG-INFO\n",
      "copying python_twitter.egg-info/requires.txt -> build/bdist.macosx-10.9-x86_64/egg/EGG-INFO\n",
      "copying python_twitter.egg-info/top_level.txt -> build/bdist.macosx-10.9-x86_64/egg/EGG-INFO\n",
      "zip_safe flag not set; analyzing archive contents...\n",
      "creating 'dist/python_twitter-3.5-py3.7.egg' and adding 'build/bdist.macosx-10.9-x86_64/egg' to it\n",
      "removing 'build/bdist.macosx-10.9-x86_64/egg' (and everything under it)\n",
      "Processing python_twitter-3.5-py3.7.egg\n",
      "Removing /Users/shinyehjin/opt/anaconda3/lib/python3.7/site-packages/python_twitter-3.5-py3.7.egg\n",
      "Copying python_twitter-3.5-py3.7.egg to /Users/shinyehjin/opt/anaconda3/lib/python3.7/site-packages\n",
      "python-twitter 3.5 is already the active version in easy-install.pth\n",
      "\n",
      "Installed /Users/shinyehjin/opt/anaconda3/lib/python3.7/site-packages/python_twitter-3.5-py3.7.egg\n",
      "Processing dependencies for python-twitter==3.5\n",
      "Searching for requests-oauthlib==1.3.0\n",
      "Best match: requests-oauthlib 1.3.0\n",
      "Adding requests-oauthlib 1.3.0 to easy-install.pth file\n",
      "\n",
      "Using /Users/shinyehjin/opt/anaconda3/lib/python3.7/site-packages\n",
      "Searching for requests==2.25.0\n",
      "Best match: requests 2.25.0\n",
      "Adding requests 2.25.0 to easy-install.pth file\n",
      "\n",
      "Using /Users/shinyehjin/opt/anaconda3/lib/python3.7/site-packages\n",
      "Searching for oauthlib==3.1.0\n",
      "Best match: oauthlib 3.1.0\n",
      "Adding oauthlib 3.1.0 to easy-install.pth file\n",
      "\n",
      "Using /Users/shinyehjin/opt/anaconda3/lib/python3.7/site-packages\n",
      "Searching for chardet==3.0.4\n",
      "Best match: chardet 3.0.4\n",
      "Adding chardet 3.0.4 to easy-install.pth file\n",
      "Installing chardetect script to /Users/shinyehjin/opt/anaconda3/bin\n",
      "\n",
      "Using /Users/shinyehjin/opt/anaconda3/lib/python3.7/site-packages\n",
      "Searching for urllib3==1.25.8\n",
      "Best match: urllib3 1.25.8\n",
      "Adding urllib3 1.25.8 to easy-install.pth file\n",
      "\n",
      "Using /Users/shinyehjin/opt/anaconda3/lib/python3.7/site-packages\n",
      "Searching for idna==2.8\n",
      "Best match: idna 2.8\n",
      "Adding idna 2.8 to easy-install.pth file\n",
      "\n",
      "Using /Users/shinyehjin/opt/anaconda3/lib/python3.7/site-packages\n",
      "Searching for certifi==2019.11.28\n",
      "Best match: certifi 2019.11.28\n",
      "Adding certifi 2019.11.28 to easy-install.pth file\n",
      "\n",
      "Using /Users/shinyehjin/opt/anaconda3/lib/python3.7/site-packages\n",
      "Finished processing dependencies for python-twitter==3.5\n"
     ]
    }
   ],
   "source": [
    "!git clone git://github.com/bear/python-twitter.git\n",
    "!pip install -Ur python-twitter/requirements.txt \n",
    "!pip install python-twitter\n",
    "!python python-twitter/setup.py build\n",
    "!python python-twitter/setup.py install\n",
    "\n",
    "import twitter"
   ]
  },
  {
   "cell_type": "markdown",
   "metadata": {},
   "source": [
    "### 2. key, token"
   ]
  },
  {
   "cell_type": "code",
   "execution_count": 2,
   "metadata": {},
   "outputs": [],
   "source": [
    "c_key = \"cqBrLtGgcmMOVVujAhYH74sAD\"\n",
    "c_secret = \"Kh3TjMUXXfEP2iZmJVCavjEpxWLr5yz93abe6alNejpeiVV4WY\"\n",
    "a_token = \"403109204-fsqizf8LQPiW5edNFrBqNXOKee4beUn0bUJeK3qx\"\n",
    "a_token_secret = \"4BXdQDvl9eiKDaGlAPiQW8811NU80jLMVvwWHO4z9URDE\"\n",
    "\n",
    "twitter_api = twitter.Api(consumer_key=c_key,\n",
    "                  consumer_secret=c_secret, \n",
    "                  access_token_key=a_token, \n",
    "                  access_token_secret=a_token_secret)"
   ]
  },
  {
   "cell_type": "markdown",
   "metadata": {},
   "source": [
    "### 3. Search"
   ]
  },
  {
   "cell_type": "markdown",
   "metadata": {},
   "source": [
    "Status: https://developer.twitter.com/en/docs/twitter-api/v1/data-dictionary/overview/tweet-object"
   ]
  },
  {
   "cell_type": "code",
   "execution_count": 3,
   "metadata": {},
   "outputs": [
    {
     "name": "stdout",
     "output_type": "stream",
     "text": [
      "---------------------------\n",
      "1\n",
      "time : Tue Dec 01 10:30:42 +0000 2020\n",
      "content : #KAI's #Mmmh MV surpasses 10M Views on YouTube within 30 hours and 36 minutes, making history and becoming the fast… https://t.co/GRfw6NE765\n",
      "---------------------------\n",
      "2\n",
      "time : Wed Dec 02 04:47:43 +0000 2020\n",
      "content : GOT7 &lt;Breath of Love : Last Piece&gt;\n",
      "\n",
      "Released Online :\n",
      "Mwave\n",
      "https://t.co/BzQBqxpAeI\n",
      "\n",
      "#GOT7 #갓세븐 @GOT7Official… https://t.co/xYFlvhOrdh\n",
      "---------------------------\n",
      "3\n",
      "time : Wed Dec 02 02:31:13 +0000 2020\n",
      "content : [#Mwave Shop]\n",
      "You can buy #GOT7's hand-signed CDs on Mwave Shop!💙\n",
      "Don't miss this chance!\n",
      "\n",
      "💿Product : SIGNED GOT7 4… https://t.co/79adkCfd2k\n",
      "---------------------------\n",
      "4\n",
      "time : Wed Dec 02 13:14:28 +0000 2020\n",
      "content : RT @_Mathilde_5: Je cherche des mutus actif \n",
      "-Fan de kpop ou pas comme vous voulez \n",
      "- Fan de série/drama \n",
      "- Fan de \"mode\" (en gros quelqu'u…\n",
      "---------------------------\n",
      "5\n",
      "time : Wed Dec 02 13:14:28 +0000 2020\n",
      "content : @kopbassanais @DrlesDeTweets2 @Ellijah100Cou @Tonytascapter @raplume Ptdr dans vos têtes la moindre personne fan de… https://t.co/AgzZATCaJY\n"
     ]
    }
   ],
   "source": [
    "search_word = \"kpop\"\n",
    "search_num = 5\n",
    "search_list = twitter_api.GetSearch(term=search_word, count=search_num)\n",
    "\n",
    "for i, search_status in enumerate(search_list):\n",
    "    print(\"---------------------------\")\n",
    "    print(str(i+1))\n",
    "    print(\"time :\", search_status.created_at)\n",
    "    print(\"content :\", search_status.text)\n",
    "    \n",
    "# Status JSON:\n",
    "# {\n",
    "#  \"created_at\": 생성시간,\n",
    "#  \"id\": ID,\n",
    "#  \"id_str\": ID_string,\n",
    "#  \"text\": content,\n",
    "#  \"user\": {},  \n",
    "#  \"entities\": {}\n",
    "# }"
   ]
  },
  {
   "cell_type": "markdown",
   "metadata": {},
   "source": [
    "### 4. Stream Tweet"
   ]
  },
  {
   "cell_type": "markdown",
   "metadata": {},
   "source": [
    "http://hleecaster.com/python-twitter-api/"
   ]
  },
  {
   "cell_type": "code",
   "execution_count": 4,
   "metadata": {},
   "outputs": [],
   "source": [
    "import csv\n",
    "import json\n",
    "import time"
   ]
  },
  {
   "cell_type": "code",
   "execution_count": 5,
   "metadata": {},
   "outputs": [],
   "source": [
    "output_file_name = \"stream_result.txt\" # 저장할 위치\n",
    "query = [\"코로나\"] # 검색 단어"
   ]
  },
  {
   "cell_type": "markdown",
   "metadata": {},
   "source": [
    "##### streaming"
   ]
  },
  {
   "cell_type": "code",
   "execution_count": 6,
   "metadata": {},
   "outputs": [],
   "source": [
    "stream_min = 1 # 스트리밍 하고 싶은 시간(분)\n",
    "max_time = time.time() + stream_min * 60\n",
    "\n",
    "with open(output_file_name, \"w\", encoding=\"utf-8\") as output_file:\n",
    "    stream = twitter_api.GetStreamFilter(track=query)\n",
    "\n",
    "    for tweets in stream:\n",
    "        tweet = json.dumps(tweets, ensure_ascii=False)\n",
    "        print(tweet, file=output_file, flush=True)\n",
    "        if time.time() > max_time: # 이거 없으면 계~속 돌아간다\n",
    "            break"
   ]
  },
  {
   "cell_type": "markdown",
   "metadata": {},
   "source": [
    "##### txt to csv"
   ]
  },
  {
   "cell_type": "code",
   "execution_count": 7,
   "metadata": {},
   "outputs": [],
   "source": [
    "input_file_name = \"stream_result.txt\"\n",
    "output_file_name = \"stream_result.csv\"\n",
    "\n",
    "with open(input_file_name, \"r\", encoding=\"utf-8\", newline=\"\") as input_file, \\\n",
    "        open(output_file_name, \"w\", encoding=\"utf-8\", newline=\"\") as output_file:\n",
    "\n",
    "    data = []\n",
    "    for line in input_file:\n",
    "        datum = json.loads(line)\n",
    "        data.append(datum)\n",
    "        \n",
    "    csvwriter = csv.writer(output_file)\n",
    "    csvwriter.writerow(data[0].keys())\n",
    "    for line in data:\n",
    "        csvwriter.writerow(line.values())"
   ]
  }
 ],
 "metadata": {
  "kernelspec": {
   "display_name": "Python 3",
   "language": "python",
   "name": "python3"
  },
  "language_info": {
   "codemirror_mode": {
    "name": "ipython",
    "version": 3
   },
   "file_extension": ".py",
   "mimetype": "text/x-python",
   "name": "python",
   "nbconvert_exporter": "python",
   "pygments_lexer": "ipython3",
   "version": "3.7.6"
  }
 },
 "nbformat": 4,
 "nbformat_minor": 4
}
